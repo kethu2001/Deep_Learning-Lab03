{
 "cells": [
  {
   "cell_type": "markdown",
   "metadata": {
    "id": "LuA-4GIPekX2"
   },
   "source": [
    "# Face Recognition for the Happy House\n",
    "\n",
    "Welcome to the first assignment of week 4! Here you will build a face recognition system. Many of the ideas presented here are from [FaceNet](https://arxiv.org/pdf/1503.03832.pdf). In lecture, we also talked about [DeepFace](https://research.fb.com/wp-content/uploads/2016/11/deepface-closing-the-gap-to-human-level-performance-in-face-verification.pdf).\n",
    "\n",
    "Face recognition problems commonly fall into two categories:\n",
    "\n",
    "- **Face Verification** - \"is this the claimed person?\". For example, at some airports, you can pass through customs by letting a system scan your passport and then verifying that you (the person carrying the passport) are the correct person. A mobile phone that unlocks using your face is also using face verification. This is a 1:1 matching problem.\n",
    "- **Face Recognition** - \"who is this person?\". For example, the video lecture showed a face recognition video (https://www.youtube.com/watch?v=wr4rx0Spihs) of Baidu employees entering the office without needing to otherwise identify themselves. This is a 1:K matching problem.\n",
    "\n",
    "FaceNet learns a neural network that encodes a face image into a vector of 128 numbers. By comparing two such vectors, you can then determine if two pictures are of the same person.\n",
    "    \n",
    "**In this assignment, you will:**\n",
    "- Implement the triplet loss function\n",
    "- Use a pretrained model to map face images into 128-dimensional encodings\n",
    "- Use these encodings to perform face verification and face recognition\n",
    "\n",
    "In this exercise, we will be using a pre-trained model which represents ConvNet activations using a \"channels first\" convention, as opposed to the \"channels last\" convention used in lecture and previous programming assignments. In other words, a batch of images will be of shape $(m, n_C, n_H, n_W)$ instead of $(m, n_H, n_W, n_C)$. Both of these conventions have a reasonable amount of traction among open-source implementations; there isn't a uniform standard yet within the deep learning community.\n",
    "\n",
    "Let's load the required packages.\n"
   ]
  },
  {
   "cell_type": "code",
   "execution_count": 1,
   "metadata": {
    "id": "-DFr5cHPyBKq"
   },
   "outputs": [],
   "source": [
    "\n",
    "import zipfile\n",
    "with zipfile.ZipFile('weights.zip', 'r') as zip_ref:\n",
    "    zip_ref.extractall('weights')\n",
    "\n"
   ]
  },
  {
   "cell_type": "code",
   "execution_count": 2,
   "metadata": {},
   "outputs": [
    {
     "name": "stdout",
     "output_type": "stream",
     "text": [
      "Requirement already satisfied: tensorflow in c:\\users\\hp\\anaconda3\\lib\\site-packages (2.17.0)\n",
      "Requirement already satisfied: tensorflow-intel==2.17.0 in c:\\users\\hp\\anaconda3\\lib\\site-packages (from tensorflow) (2.17.0)\n",
      "Requirement already satisfied: absl-py>=1.0.0 in c:\\users\\hp\\anaconda3\\lib\\site-packages (from tensorflow-intel==2.17.0->tensorflow) (2.1.0)\n",
      "Requirement already satisfied: astunparse>=1.6.0 in c:\\users\\hp\\anaconda3\\lib\\site-packages (from tensorflow-intel==2.17.0->tensorflow) (1.6.3)\n",
      "Requirement already satisfied: flatbuffers>=24.3.25 in c:\\users\\hp\\anaconda3\\lib\\site-packages (from tensorflow-intel==2.17.0->tensorflow) (24.3.25)\n",
      "Requirement already satisfied: gast!=0.5.0,!=0.5.1,!=0.5.2,>=0.2.1 in c:\\users\\hp\\anaconda3\\lib\\site-packages (from tensorflow-intel==2.17.0->tensorflow) (0.6.0)\n",
      "Requirement already satisfied: google-pasta>=0.1.1 in c:\\users\\hp\\anaconda3\\lib\\site-packages (from tensorflow-intel==2.17.0->tensorflow) (0.2.0)\n",
      "Requirement already satisfied: h5py>=3.10.0 in c:\\users\\hp\\anaconda3\\lib\\site-packages (from tensorflow-intel==2.17.0->tensorflow) (3.11.0)\n",
      "Requirement already satisfied: libclang>=13.0.0 in c:\\users\\hp\\anaconda3\\lib\\site-packages (from tensorflow-intel==2.17.0->tensorflow) (18.1.1)\n",
      "Requirement already satisfied: ml-dtypes<0.5.0,>=0.3.1 in c:\\users\\hp\\anaconda3\\lib\\site-packages (from tensorflow-intel==2.17.0->tensorflow) (0.4.0)\n",
      "Requirement already satisfied: opt-einsum>=2.3.2 in c:\\users\\hp\\anaconda3\\lib\\site-packages (from tensorflow-intel==2.17.0->tensorflow) (3.3.0)\n",
      "Requirement already satisfied: packaging in c:\\users\\hp\\anaconda3\\lib\\site-packages (from tensorflow-intel==2.17.0->tensorflow) (23.0)\n",
      "Requirement already satisfied: protobuf!=4.21.0,!=4.21.1,!=4.21.2,!=4.21.3,!=4.21.4,!=4.21.5,<5.0.0dev,>=3.20.3 in c:\\users\\hp\\anaconda3\\lib\\site-packages (from tensorflow-intel==2.17.0->tensorflow) (4.25.4)\n",
      "Requirement already satisfied: requests<3,>=2.21.0 in c:\\users\\hp\\anaconda3\\lib\\site-packages (from tensorflow-intel==2.17.0->tensorflow) (2.31.0)\n",
      "Requirement already satisfied: setuptools in c:\\users\\hp\\anaconda3\\lib\\site-packages (from tensorflow-intel==2.17.0->tensorflow) (68.0.0)\n",
      "Requirement already satisfied: six>=1.12.0 in c:\\users\\hp\\anaconda3\\lib\\site-packages (from tensorflow-intel==2.17.0->tensorflow) (1.16.0)\n",
      "Requirement already satisfied: termcolor>=1.1.0 in c:\\users\\hp\\anaconda3\\lib\\site-packages (from tensorflow-intel==2.17.0->tensorflow) (2.4.0)\n",
      "Requirement already satisfied: typing-extensions>=3.6.6 in c:\\users\\hp\\anaconda3\\lib\\site-packages (from tensorflow-intel==2.17.0->tensorflow) (4.7.1)\n",
      "Requirement already satisfied: wrapt>=1.11.0 in c:\\users\\hp\\anaconda3\\lib\\site-packages (from tensorflow-intel==2.17.0->tensorflow) (1.14.1)\n",
      "Requirement already satisfied: grpcio<2.0,>=1.24.3 in c:\\users\\hp\\anaconda3\\lib\\site-packages (from tensorflow-intel==2.17.0->tensorflow) (1.65.5)\n",
      "Requirement already satisfied: tensorboard<2.18,>=2.17 in c:\\users\\hp\\anaconda3\\lib\\site-packages (from tensorflow-intel==2.17.0->tensorflow) (2.17.1)\n",
      "Requirement already satisfied: keras>=3.2.0 in c:\\users\\hp\\anaconda3\\lib\\site-packages (from tensorflow-intel==2.17.0->tensorflow) (3.5.0)\n",
      "Requirement already satisfied: tensorflow-io-gcs-filesystem>=0.23.1 in c:\\users\\hp\\anaconda3\\lib\\site-packages (from tensorflow-intel==2.17.0->tensorflow) (0.31.0)\n",
      "Requirement already satisfied: numpy<2.0.0,>=1.23.5 in c:\\users\\hp\\anaconda3\\lib\\site-packages (from tensorflow-intel==2.17.0->tensorflow) (1.24.3)\n",
      "Requirement already satisfied: wheel<1.0,>=0.23.0 in c:\\users\\hp\\anaconda3\\lib\\site-packages (from astunparse>=1.6.0->tensorflow-intel==2.17.0->tensorflow) (0.38.4)\n",
      "Requirement already satisfied: rich in c:\\users\\hp\\anaconda3\\lib\\site-packages (from keras>=3.2.0->tensorflow-intel==2.17.0->tensorflow) (13.7.1)\n",
      "Requirement already satisfied: namex in c:\\users\\hp\\anaconda3\\lib\\site-packages (from keras>=3.2.0->tensorflow-intel==2.17.0->tensorflow) (0.0.8)\n",
      "Requirement already satisfied: optree in c:\\users\\hp\\anaconda3\\lib\\site-packages (from keras>=3.2.0->tensorflow-intel==2.17.0->tensorflow) (0.12.1)\n",
      "Requirement already satisfied: charset-normalizer<4,>=2 in c:\\users\\hp\\anaconda3\\lib\\site-packages (from requests<3,>=2.21.0->tensorflow-intel==2.17.0->tensorflow) (2.0.4)\n",
      "Requirement already satisfied: idna<4,>=2.5 in c:\\users\\hp\\anaconda3\\lib\\site-packages (from requests<3,>=2.21.0->tensorflow-intel==2.17.0->tensorflow) (3.4)\n",
      "Requirement already satisfied: urllib3<3,>=1.21.1 in c:\\users\\hp\\anaconda3\\lib\\site-packages (from requests<3,>=2.21.0->tensorflow-intel==2.17.0->tensorflow) (1.26.16)\n",
      "Requirement already satisfied: certifi>=2017.4.17 in c:\\users\\hp\\anaconda3\\lib\\site-packages (from requests<3,>=2.21.0->tensorflow-intel==2.17.0->tensorflow) (2023.7.22)\n",
      "Requirement already satisfied: markdown>=2.6.8 in c:\\users\\hp\\anaconda3\\lib\\site-packages (from tensorboard<2.18,>=2.17->tensorflow-intel==2.17.0->tensorflow) (3.4.1)\n",
      "Requirement already satisfied: tensorboard-data-server<0.8.0,>=0.7.0 in c:\\users\\hp\\anaconda3\\lib\\site-packages (from tensorboard<2.18,>=2.17->tensorflow-intel==2.17.0->tensorflow) (0.7.2)\n",
      "Requirement already satisfied: werkzeug>=1.0.1 in c:\\users\\hp\\anaconda3\\lib\\site-packages (from tensorboard<2.18,>=2.17->tensorflow-intel==2.17.0->tensorflow) (2.2.3)\n",
      "Requirement already satisfied: MarkupSafe>=2.1.1 in c:\\users\\hp\\anaconda3\\lib\\site-packages (from werkzeug>=1.0.1->tensorboard<2.18,>=2.17->tensorflow-intel==2.17.0->tensorflow) (2.1.1)\n",
      "Requirement already satisfied: markdown-it-py>=2.2.0 in c:\\users\\hp\\anaconda3\\lib\\site-packages (from rich->keras>=3.2.0->tensorflow-intel==2.17.0->tensorflow) (2.2.0)\n",
      "Requirement already satisfied: pygments<3.0.0,>=2.13.0 in c:\\users\\hp\\anaconda3\\lib\\site-packages (from rich->keras>=3.2.0->tensorflow-intel==2.17.0->tensorflow) (2.15.1)\n",
      "Requirement already satisfied: mdurl~=0.1 in c:\\users\\hp\\anaconda3\\lib\\site-packages (from markdown-it-py>=2.2.0->rich->keras>=3.2.0->tensorflow-intel==2.17.0->tensorflow) (0.1.0)\n",
      "Note: you may need to restart the kernel to use updated packages.\n"
     ]
    }
   ],
   "source": [
    "pip install tensorflow"
   ]
  },
  {
   "cell_type": "code",
   "execution_count": 3,
   "metadata": {},
   "outputs": [],
   "source": [
    "import tensorflow as tf"
   ]
  },
  {
   "cell_type": "code",
   "execution_count": 4,
   "metadata": {},
   "outputs": [],
   "source": [
    "#pip install fr_utils"
   ]
  },
  {
   "cell_type": "code",
   "execution_count": 5,
   "metadata": {},
   "outputs": [
    {
     "name": "stdout",
     "output_type": "stream",
     "text": [
      "Requirement already satisfied: opencv-python in c:\\users\\hp\\anaconda3\\lib\\site-packages (4.10.0.84)\n",
      "Requirement already satisfied: numpy>=1.21.2 in c:\\users\\hp\\anaconda3\\lib\\site-packages (from opencv-python) (1.24.3)\n",
      "Note: you may need to restart the kernel to use updated packages.\n"
     ]
    }
   ],
   "source": [
    "pip install opencv-python\n"
   ]
  },
  {
   "cell_type": "code",
   "execution_count": 6,
   "metadata": {},
   "outputs": [],
   "source": [
    "import cv2\n"
   ]
  },
  {
   "cell_type": "code",
   "execution_count": 7,
   "metadata": {
    "id": "h06smg0Ef9RV"
   },
   "outputs": [],
   "source": [
    "\n",
    "\n",
    "\n",
    "import fr_utils"
   ]
  },
  {
   "cell_type": "code",
   "execution_count": 8,
   "metadata": {
    "colab": {
     "base_uri": "https://localhost:8080/"
    },
    "id": "A6SBtExrekX5",
    "outputId": "6b467696-a2f5-49b0-bc54-2bae80817f0b"
   },
   "outputs": [
    {
     "name": "stdout",
     "output_type": "stream",
     "text": [
      "2.17.0\n"
     ]
    }
   ],
   "source": [
    "\n",
    "from keras.models import Sequential\n",
    "from keras.layers import Conv2D, ZeroPadding2D, Activation, Input, concatenate\n",
    "from keras.models import Model\n",
    "# from keras.layers.normalization import BatchNormalization\n",
    "from tensorflow.keras.layers import BatchNormalization\n",
    "#from keras.layers.pooling import MaxPooling2D, AveragePooling2D\n",
    "from tensorflow.keras.layers import MaxPooling2D, AveragePooling2D\n",
    "# from keras.layers.merge import Concatenate\n",
    "from tensorflow.keras.layers import concatenate\n",
    "\n",
    "from tensorflow.keras.layers import Lambda, Flatten, Dense\n",
    "from keras.initializers import glorot_uniform\n",
    "# from keras.engine.topology import Layer\n",
    "from tensorflow.keras.layers import Layer, InputSpec\n",
    "from keras import backend as K\n",
    "K.set_image_data_format('channels_first')\n",
    "import cv2\n",
    "import os\n",
    "import numpy as np\n",
    "from numpy import genfromtxt\n",
    "import pandas as pd\n",
    "import tensorflow as tf\n",
    "from fr_utils import *\n",
    "from inception_blocks_v2 import *\n",
    "\n",
    "%matplotlib inline\n",
    "%load_ext autoreload\n",
    "%autoreload 2\n",
    "\n",
    "import tensorflow\n",
    "print(tensorflow.__version__)\n",
    "\n",
    "# np.set_printoptions(threshold=np.nan)"
   ]
  },
  {
   "cell_type": "markdown",
   "metadata": {
    "id": "S_AfxbFdekYA"
   },
   "source": [
    "## 0 - Naive Face Verification\n",
    "\n",
    "In Face Verification, you're given two images and you have to tell if they are of the same person. The simplest way to do this is to compare the two images pixel-by-pixel. If the distance between the raw images are less than a chosen threshold, it may be the same person!\n",
    "\n",
    "<img src=\"//github.com/enggen/Deep-Learning-Coursera/raw/1407e19c98833d2686a0748db26b594f3102301e/Convolutional Neural Networks/Week4/Face Recognition/images/pixel_comparison.png\" style=\"width:380px;height:150px;\">\n",
    "<caption><center> <u> <font color='purple'> </u></center></caption>"
   ]
  },
  {
   "cell_type": "markdown",
   "metadata": {
    "collapsed": true,
    "id": "PGNZGVAlekYB",
    "jupyter": {
     "outputs_hidden": true
    }
   },
   "source": [
    "Of course, this algorithm performs really poorly, since the pixel values change dramatically due to variations in lighting, orientation of the person's face, even minor changes in head position, and so on.\n",
    "\n",
    "You'll see that rather than using the raw image, you can learn an encoding $f(img)$ so that element-wise comparisons of this encoding gives more accurate judgements as to whether two pictures are of the same person."
   ]
  },
  {
   "cell_type": "markdown",
   "metadata": {
    "id": "b67v8ii_ekYB"
   },
   "source": [
    "## 1 - Encoding face images into a 128-dimensional vector\n",
    "\n",
    "### 1.1 - Using an ConvNet  to compute encodings\n",
    "\n",
    "The FaceNet model takes a lot of data and a long time to train. So following common practice in applied deep learning settings, let's just load weights that someone else has already trained. The network architecture follows the Inception model from [Szegedy *et al.*](https://arxiv.org/abs/1409.4842). We have provided an inception network implementation. You can look in the file `inception_blocks.py` to see how it is implemented (do so by going to \"File->Open...\" at the top of the Jupyter notebook).  \n"
   ]
  },
  {
   "cell_type": "markdown",
   "metadata": {
    "id": "Pwk8QR0iekYC"
   },
   "source": [
    "The key things you need to know are:\n",
    "\n",
    "- This network uses 96x96 dimensional RGB images as its input. Specifically, inputs a face image (or batch of $m$ face images) as a tensor of shape $(m, n_C, n_H, n_W) = (m, 3, 96, 96)$\n",
    "- It outputs a matrix of shape $(m, 128)$ that encodes each input face image into a 128-dimensional vector\n",
    "\n",
    "Run the cell below to create the model for face images."
   ]
  },
  {
   "cell_type": "code",
   "execution_count": 9,
   "metadata": {
    "id": "rgh0TInJekYD",
    "scrolled": true
   },
   "outputs": [],
   "source": [
    "from keras.layers import Input, Dense, Lambda\n",
    "from keras.models import Model\n",
    "\n",
    "def faceRecoModel(input_shape):\n",
    "    X_input = Input(input_shape)\n",
    "    \n",
    "    # Your model's layers here...\n",
    "    \n",
    "    # Example of the last few layers\n",
    "    X = Dense(128, name='dense_layer')(X_input)\n",
    "    X = Lambda(lambda x: K.l2_normalize(x, axis=1), output_shape=(128,))(X)\n",
    "    \n",
    "    # Create model instance\n",
    "    model = Model(inputs=X_input, outputs=X, name='FaceRecoModel')\n",
    "    \n",
    "    return model\n",
    "\n",
    "FRmodel = faceRecoModel(input_shape=(3, 96, 96))\n",
    "\n"
   ]
  },
  {
   "cell_type": "code",
   "execution_count": 10,
   "metadata": {
    "colab": {
     "base_uri": "https://localhost:8080/"
    },
    "id": "QlKMPb6nekYG",
    "outputId": "2b5b7101-e586-4082-c20a-e226a84dfa1c"
   },
   "outputs": [
    {
     "name": "stdout",
     "output_type": "stream",
     "text": [
      "Total Params: 12416\n"
     ]
    }
   ],
   "source": [
    "print(\"Total Params:\", FRmodel.count_params())"
   ]
  },
  {
   "cell_type": "markdown",
   "metadata": {
    "id": "U6g2zkTvekYJ"
   },
   "source": [
    "** Expected Output **\n",
    "<table>\n",
    "<center>\n",
    "Total Params: 3743280\n",
    "</center>\n",
    "</table>\n"
   ]
  },
  {
   "cell_type": "markdown",
   "metadata": {
    "id": "oue9ViX-ekYK"
   },
   "source": [
    "By using a 128-neuron fully connected layer as its last layer, the model ensures that the output is an encoding vector of size 128. You then use the encodings the compare two face images as follows:\n",
    "\n",
    "<img src=\"//github.com/enggen/Deep-Learning-Coursera/raw/1407e19c98833d2686a0748db26b594f3102301e/Convolutional Neural Networks/Week4/Face Recognition/images/distance_kiank.png\" style=\"width:680px;height:250px;\">\n",
    "<caption><center> <u> <font color='purple'>  <br> </u> <font color='purple'> By computing a distance between two encodings and thresholding, you can determine if the two pictures represent the same person</center></caption>\n",
    "\n",
    "So, an encoding is a good one if:\n",
    "- The encodings of two images of the same person are quite similar to each other\n",
    "- The encodings of two images of different persons are very different\n",
    "\n",
    "The triplet loss function formalizes this, and tries to \"push\" the encodings of two images of the same person (Anchor and Positive) closer together, while \"pulling\" the encodings of two images of different persons (Anchor, Negative) further apart.\n",
    "\n",
    "<img src=\"//github.com/enggen/Deep-Learning-Coursera/raw/1407e19c98833d2686a0748db26b594f3102301e/Convolutional Neural Networks/Week4/Face Recognition/images/triplet_comparison.png\" style=\"width:280px;height:150px;\">\n",
    "<br>\n",
    "<caption><center> <u> <font color='purple'> <br> </u> <font color='purple'> In the next part, we will call the pictures from left to right: Anchor (A), Positive (P), Negative (N)  </center></caption>"
   ]
  },
  {
   "cell_type": "markdown",
   "metadata": {
    "id": "befDNuayekYL"
   },
   "source": [
    "\n",
    "\n",
    "### 1.2 - The Triplet Loss\n",
    "\n",
    "For an image $x$, we denote its encoding $f(x)$, where $f$ is the function computed by the neural network.\n",
    "\n",
    "<img src=\"//github.com/enggen/Deep-Learning-Coursera/raw/1407e19c98833d2686a0748db26b594f3102301e/Convolutional Neural Networks/Week4/Face Recognition/images/f_x.png\" style=\"width:380px;height:150px;\">\n",
    "\n",
    "<!--\n",
    "We will also add a normalization step at the end of our model so that $\\mid \\mid f(x) \\mid \\mid_2 = 1$ (means the vector of encoding should be of norm 1).\n",
    "!-->\n",
    "\n",
    "Training will use triplets of images $(A, P, N)$:  \n",
    "\n",
    "- A is an \"Anchor\" image--a picture of a person.\n",
    "- P is a \"Positive\" image--a picture of the same person as the Anchor image.\n",
    "- N is a \"Negative\" image--a picture of a different person than the Anchor image.\n",
    "\n",
    "These triplets are picked from our training dataset. We will write $(A^{(i)}, P^{(i)}, N^{(i)})$ to denote the $i$-th training example.\n",
    "\n",
    "You'd like to make sure that an image $A^{(i)}$ of an individual is closer to the Positive $P^{(i)}$ than to the Negative image $N^{(i)}$) by at least a margin $\\alpha$:\n",
    "\n",
    "$$\\mid \\mid f(A^{(i)}) - f(P^{(i)}) \\mid \\mid_2^2 + \\alpha < \\mid \\mid f(A^{(i)}) - f(N^{(i)}) \\mid \\mid_2^2$$\n",
    "\n",
    "You would thus like to minimize the following \"triplet cost\":\n",
    "\n",
    "$$\\mathcal{J} = \\sum^{N}_{i=1} \\large[ \\small \\underbrace{\\mid \\mid f(A^{(i)}) - f(P^{(i)}) \\mid \\mid_2^2}_\\text{(1)} - \\underbrace{\\mid \\mid f(A^{(i)}) - f(N^{(i)}) \\mid \\mid_2^2}_\\text{(2)} + \\alpha \\large ] \\small_+ \\tag{3}$$\n",
    "\n",
    "Here, we are using the notation \"$[z]_+$\" to denote $max(z,0)$.  \n",
    "\n",
    "Notes:\n",
    "- The term (1) is the squared distance between the anchor \"A\" and the positive \"P\" for a given triplet; you want this to be small.\n",
    "- The term (2) is the squared distance between the anchor \"A\" and the negative \"N\" for a given triplet, you want this to be relatively large, so it thus makes sense to have a minus sign preceding it.\n",
    "- $\\alpha$ is called the margin. It is a hyperparameter that you should pick manually. We will use $\\alpha = 0.2$.\n",
    "\n",
    "Most implementations also normalize the encoding vectors  to have norm equal one (i.e., $\\mid \\mid f(img)\\mid \\mid_2$=1); you won't have to worry about that here.\n",
    "\n",
    "**Exercise**: Implement the triplet loss as defined by formula (3). Here are the 4 steps:\n",
    "1. Compute the distance between the encodings of \"anchor\" and \"positive\": $\\mid \\mid f(A^{(i)}) - f(P^{(i)}) \\mid \\mid_2^2$\n",
    "2. Compute the distance between the encodings of \"anchor\" and \"negative\": $\\mid \\mid f(A^{(i)}) - f(N^{(i)}) \\mid \\mid_2^2$\n",
    "3. Compute the formula per training example: $ \\mid \\mid f(A^{(i)}) - f(P^{(i)}) \\mid - \\mid \\mid f(A^{(i)}) - f(N^{(i)}) \\mid \\mid_2^2 + \\alpha$\n",
    "3. Compute the full formula by taking the max with zero and summing over the training examples:\n",
    "$$\\mathcal{J} = \\sum^{N}_{i=1} \\large[ \\small \\mid \\mid f(A^{(i)}) - f(P^{(i)}) \\mid \\mid_2^2 - \\mid \\mid f(A^{(i)}) - f(N^{(i)}) \\mid \\mid_2^2+ \\alpha \\large ] \\small_+ \\tag{3}$$\n",
    "\n",
    "Useful functions: `tf.reduce_sum()`, `tf.square()`, `tf.subtract()`, `tf.add()`, `tf.reduce_mean`, `tf.maximum()`."
   ]
  },
  {
   "cell_type": "code",
   "execution_count": 11,
   "metadata": {
    "id": "WUrgBCMcekYM"
   },
   "outputs": [],
   "source": [
    "# GRADED FUNCTION: triplet_loss\n",
    "\n",
    "def triplet_loss(y_true, y_pred, alpha = 0.2):\n",
    "    \"\"\"\n",
    "    Implementation of the triplet loss as defined by formula (3)\n",
    "\n",
    "    Arguments:\n",
    "    y_true -- true labels, required when you define a loss in Keras, you don't need it in this function.\n",
    "    y_pred -- python list containing three objects:\n",
    "            anchor -- the encodings for the anchor images, of shape (None, 128)\n",
    "            positive -- the encodings for the positive images, of shape (None, 128)\n",
    "            negative -- the encodings for the negative images, of shape (None, 128)\n",
    "\n",
    "    Returns:\n",
    "    loss -- real number, value of the loss\n",
    "    \"\"\"\n",
    "\n",
    "    anchor, positive, negative = y_pred[0], y_pred[1], y_pred[2]\n",
    "\n",
    "    ### START CODE HERE ### (≈ 4 lines)\n",
    "    # Step 1: Compute the (encoding) distance between the anchor and the positive\n",
    "    pos_dist = tf.reduce_sum(tf.square(tf.subtract(anchor, positive)))\n",
    "    # Step 2: Compute the (encoding) distance between the anchor and the negative\n",
    "    neg_dist = tf.reduce_sum(tf.square(tf.subtract(anchor, negative)))\n",
    "    # Step 3: subtract the two previous distances and add alpha.\n",
    "    basic_loss = tf.add(tf.subtract(pos_dist, neg_dist), alpha)\n",
    "    # Step 4: Take the maximum of basic_loss and 0.0. Sum over the training examples.\n",
    "    loss = tf.maximum(tf.reduce_mean(basic_loss), 0.0)\n",
    "    ### END CODE HERE ###\n",
    "\n",
    "    return loss"
   ]
  },
  {
   "cell_type": "code",
   "execution_count": 12,
   "metadata": {
    "colab": {
     "base_uri": "https://localhost:8080/"
    },
    "id": "TOO0syfFekYP",
    "outputId": "eec1d8b3-7bad-4514-91b8-89e877a5fbeb"
   },
   "outputs": [
    {
     "name": "stdout",
     "output_type": "stream",
     "text": [
      "WARNING:tensorflow:From C:\\Users\\HP\\AppData\\Local\\Temp\\ipykernel_32\\2001689495.py:3: The name tf.Session is deprecated. Please use tf.compat.v1.Session instead.\n",
      "\n",
      "loss = 350.02637\n"
     ]
    }
   ],
   "source": [
    "# with tf.Session() as test:\n",
    "import tensorflow as tf\n",
    "with tf.compat.v1.Session() as test:\n",
    "#    tf.set_random_seed(1)\n",
    "    tf.random.set_seed(1)\n",
    "    y_true = (None, None, None)\n",
    "    y_pred = (tf.random.normal([3, 128], mean=6, stddev=0.1, seed = 1),\n",
    "              tf.random.normal([3, 128], mean=1, stddev=1, seed = 1),\n",
    "              tf.random.normal([3, 128], mean=3, stddev=4, seed = 1))\n",
    "    loss = triplet_loss(y_true, y_pred)\n",
    "\n",
    "    print(\"loss = \" + str(loss.eval()))\n",
    "\n"
   ]
  },
  {
   "cell_type": "markdown",
   "metadata": {
    "id": "OZL-BTeGekYS"
   },
   "source": [
    "**Expected Output**:\n",
    "\n",
    "<table>\n",
    "    <tr>\n",
    "        <td>\n",
    "            **loss**\n",
    "        </td>\n",
    "        <td>\n",
    "           350.026\n",
    "        </td>\n",
    "    </tr>\n",
    "\n",
    "</table>"
   ]
  },
  {
   "cell_type": "markdown",
   "metadata": {
    "id": "VQoiSWXyekYT"
   },
   "source": [
    "## 2 - Loading the trained model\n",
    "\n",
    "FaceNet is trained by minimizing the triplet loss. But since training requires a lot of data and a lot of computation, we won't train it from scratch here. Instead, we load a previously trained model. Load a model using the following cell; this might take a couple of minutes to run."
   ]
  },
  {
   "cell_type": "code",
   "execution_count": 14,
   "metadata": {},
   "outputs": [
    {
     "data": {
      "text/html": [
       "<pre style=\"white-space:pre;overflow-x:auto;line-height:normal;font-family:Menlo,'DejaVu Sans Mono',consolas,'Courier New',monospace\"><span style=\"font-weight: bold\">Model: \"FaceRecoModel\"</span>\n",
       "</pre>\n"
      ],
      "text/plain": [
       "\u001b[1mModel: \"FaceRecoModel\"\u001b[0m\n"
      ]
     },
     "metadata": {},
     "output_type": "display_data"
    },
    {
     "data": {
      "text/html": [
       "<pre style=\"white-space:pre;overflow-x:auto;line-height:normal;font-family:Menlo,'DejaVu Sans Mono',consolas,'Courier New',monospace\">┏━━━━━━━━━━━━━━━━━━━━━━━━━━━━━━━━━━━━━━┳━━━━━━━━━━━━━━━━━━━━━━━━━━━━━┳━━━━━━━━━━━━━━━━━┓\n",
       "┃<span style=\"font-weight: bold\"> Layer (type)                         </span>┃<span style=\"font-weight: bold\"> Output Shape                </span>┃<span style=\"font-weight: bold\">         Param # </span>┃\n",
       "┡━━━━━━━━━━━━━━━━━━━━━━━━━━━━━━━━━━━━━━╇━━━━━━━━━━━━━━━━━━━━━━━━━━━━━╇━━━━━━━━━━━━━━━━━┩\n",
       "│ input_layer (<span style=\"color: #0087ff; text-decoration-color: #0087ff\">InputLayer</span>)             │ (<span style=\"color: #00d7ff; text-decoration-color: #00d7ff\">None</span>, <span style=\"color: #00af00; text-decoration-color: #00af00\">3</span>, <span style=\"color: #00af00; text-decoration-color: #00af00\">96</span>, <span style=\"color: #00af00; text-decoration-color: #00af00\">96</span>)           │               <span style=\"color: #00af00; text-decoration-color: #00af00\">0</span> │\n",
       "├──────────────────────────────────────┼─────────────────────────────┼─────────────────┤\n",
       "│ dense_layer (<span style=\"color: #0087ff; text-decoration-color: #0087ff\">Dense</span>)                  │ (<span style=\"color: #00d7ff; text-decoration-color: #00d7ff\">None</span>, <span style=\"color: #00af00; text-decoration-color: #00af00\">3</span>, <span style=\"color: #00af00; text-decoration-color: #00af00\">96</span>, <span style=\"color: #00af00; text-decoration-color: #00af00\">128</span>)          │          <span style=\"color: #00af00; text-decoration-color: #00af00\">12,416</span> │\n",
       "├──────────────────────────────────────┼─────────────────────────────┼─────────────────┤\n",
       "│ lambda (<span style=\"color: #0087ff; text-decoration-color: #0087ff\">Lambda</span>)                      │ (<span style=\"color: #00d7ff; text-decoration-color: #00d7ff\">None</span>, <span style=\"color: #00af00; text-decoration-color: #00af00\">128</span>)                 │               <span style=\"color: #00af00; text-decoration-color: #00af00\">0</span> │\n",
       "└──────────────────────────────────────┴─────────────────────────────┴─────────────────┘\n",
       "</pre>\n"
      ],
      "text/plain": [
       "┏━━━━━━━━━━━━━━━━━━━━━━━━━━━━━━━━━━━━━━┳━━━━━━━━━━━━━━━━━━━━━━━━━━━━━┳━━━━━━━━━━━━━━━━━┓\n",
       "┃\u001b[1m \u001b[0m\u001b[1mLayer (type)                        \u001b[0m\u001b[1m \u001b[0m┃\u001b[1m \u001b[0m\u001b[1mOutput Shape               \u001b[0m\u001b[1m \u001b[0m┃\u001b[1m \u001b[0m\u001b[1m        Param #\u001b[0m\u001b[1m \u001b[0m┃\n",
       "┡━━━━━━━━━━━━━━━━━━━━━━━━━━━━━━━━━━━━━━╇━━━━━━━━━━━━━━━━━━━━━━━━━━━━━╇━━━━━━━━━━━━━━━━━┩\n",
       "│ input_layer (\u001b[38;5;33mInputLayer\u001b[0m)             │ (\u001b[38;5;45mNone\u001b[0m, \u001b[38;5;34m3\u001b[0m, \u001b[38;5;34m96\u001b[0m, \u001b[38;5;34m96\u001b[0m)           │               \u001b[38;5;34m0\u001b[0m │\n",
       "├──────────────────────────────────────┼─────────────────────────────┼─────────────────┤\n",
       "│ dense_layer (\u001b[38;5;33mDense\u001b[0m)                  │ (\u001b[38;5;45mNone\u001b[0m, \u001b[38;5;34m3\u001b[0m, \u001b[38;5;34m96\u001b[0m, \u001b[38;5;34m128\u001b[0m)          │          \u001b[38;5;34m12,416\u001b[0m │\n",
       "├──────────────────────────────────────┼─────────────────────────────┼─────────────────┤\n",
       "│ lambda (\u001b[38;5;33mLambda\u001b[0m)                      │ (\u001b[38;5;45mNone\u001b[0m, \u001b[38;5;34m128\u001b[0m)                 │               \u001b[38;5;34m0\u001b[0m │\n",
       "└──────────────────────────────────────┴─────────────────────────────┴─────────────────┘\n"
      ]
     },
     "metadata": {},
     "output_type": "display_data"
    },
    {
     "data": {
      "text/html": [
       "<pre style=\"white-space:pre;overflow-x:auto;line-height:normal;font-family:Menlo,'DejaVu Sans Mono',consolas,'Courier New',monospace\"><span style=\"font-weight: bold\"> Total params: </span><span style=\"color: #00af00; text-decoration-color: #00af00\">12,416</span> (48.50 KB)\n",
       "</pre>\n"
      ],
      "text/plain": [
       "\u001b[1m Total params: \u001b[0m\u001b[38;5;34m12,416\u001b[0m (48.50 KB)\n"
      ]
     },
     "metadata": {},
     "output_type": "display_data"
    },
    {
     "data": {
      "text/html": [
       "<pre style=\"white-space:pre;overflow-x:auto;line-height:normal;font-family:Menlo,'DejaVu Sans Mono',consolas,'Courier New',monospace\"><span style=\"font-weight: bold\"> Trainable params: </span><span style=\"color: #00af00; text-decoration-color: #00af00\">12,416</span> (48.50 KB)\n",
       "</pre>\n"
      ],
      "text/plain": [
       "\u001b[1m Trainable params: \u001b[0m\u001b[38;5;34m12,416\u001b[0m (48.50 KB)\n"
      ]
     },
     "metadata": {},
     "output_type": "display_data"
    },
    {
     "data": {
      "text/html": [
       "<pre style=\"white-space:pre;overflow-x:auto;line-height:normal;font-family:Menlo,'DejaVu Sans Mono',consolas,'Courier New',monospace\"><span style=\"font-weight: bold\"> Non-trainable params: </span><span style=\"color: #00af00; text-decoration-color: #00af00\">0</span> (0.00 B)\n",
       "</pre>\n"
      ],
      "text/plain": [
       "\u001b[1m Non-trainable params: \u001b[0m\u001b[38;5;34m0\u001b[0m (0.00 B)\n"
      ]
     },
     "metadata": {},
     "output_type": "display_data"
    }
   ],
   "source": [
    "FRmodel.summary()\n"
   ]
  },
  {
   "cell_type": "code",
   "execution_count": 15,
   "metadata": {},
   "outputs": [],
   "source": [
    "WEIGHTS = {\n",
    "    'dense_layer': 'path/to/dense_layer_weights.csv',\n",
    "    # No weight for Lambda layer as it’s typically used for operations, not storing weights\n",
    "}\n"
   ]
  },
  {
   "cell_type": "markdown",
   "metadata": {
    "id": "oemfQTSmekYX"
   },
   "source": [
    "Here're some examples of distances between the encodings between three individuals:\n",
    "\n",
    "<img src=\"//github.com/enggen/Deep-Learning-Coursera/raw/1407e19c98833d2686a0748db26b594f3102301e/Convolutional Neural Networks/Week4/Face Recognition/images/distance_matrix.png\" style=\"width:380px;height:200px;\">\n",
    "<br>\n",
    "<caption><center> <u> <font color='purple'> </u> <br>  <font color='purple'> Example of distance outputs between three individuals' encodings</center></caption>\n",
    "\n",
    "Let's now use this model to perform face verification and face recognition!"
   ]
  },
  {
   "cell_type": "code",
   "execution_count": 16,
   "metadata": {},
   "outputs": [],
   "source": [
    "def load_weights_from_FaceNet(FRmodel):\n",
    "    weights = WEIGHTS  # Dictionary with weight file paths\n",
    "    weights_dict = load_weights()  # Function to load weights from files\n",
    "\n",
    "    # Set layer weights of the model\n",
    "    for name in weights:\n",
    "        try:\n",
    "            layer = FRmodel.get_layer(name)\n",
    "            if layer is not None:\n",
    "                layer.set_weights(weights_dict[name])\n",
    "        except ValueError as e:\n",
    "            print(f\"Layer name {name} not found in the model. Error: {e}\")\n"
   ]
  },
  {
   "cell_type": "code",
   "execution_count": 17,
   "metadata": {},
   "outputs": [
    {
     "name": "stdout",
     "output_type": "stream",
     "text": [
      "Layer name dense_layer not found in the model. Error: Layer dense_layer weight shape (96, 128) is not compatible with provided weight shape (736, 128).\n"
     ]
    }
   ],
   "source": [
    "# Define the model\n",
    "FRmodel = faceRecoModel(input_shape=(3, 96, 96))\n",
    "\n",
    "# Compile the model\n",
    "FRmodel.compile(optimizer='adam', loss=triplet_loss, metrics=['accuracy'])\n",
    "\n",
    "# Load the pre-trained weights\n",
    "load_weights_from_FaceNet(FRmodel)\n"
   ]
  },
  {
   "cell_type": "markdown",
   "metadata": {
    "id": "FSQJZkyWekYX"
   },
   "source": [
    "## 3 - Applying the model"
   ]
  },
  {
   "cell_type": "markdown",
   "metadata": {
    "id": "3vI2FJ0tekYY"
   },
   "source": [
    "Back to the Happy House! Residents are living blissfully since you implemented happiness recognition for the house in an earlier assignment.  \n",
    "\n",
    "However, several issues keep coming up: The Happy House became so happy that every happy person in the neighborhood is coming to hang out in your living room. It is getting really crowded, which is having a negative impact on the residents of the house. All these random happy people are also eating all your food.\n",
    "\n",
    "So, you decide to change the door entry policy, and not just let random happy people enter anymore, even if they are happy! Instead, you'd like to build a **Face verification** system so as to only let people from a specified list come in. To get admitted, each person has to swipe an ID card (identification card) to identify themselves at the door. The face recognition system then checks that they are who they claim to be."
   ]
  },
  {
   "cell_type": "markdown",
   "metadata": {
    "id": "HUDhPZ_TekYY"
   },
   "source": [
    "### 3.1 - Face Verification\n",
    "\n",
    "Let's build a database containing one encoding vector for each person allowed to enter the happy house. To generate the encoding we use `img_to_encoding(image_path, model)` which basically runs the forward propagation of the model on the specified image.\n",
    "\n",
    "Run the following code to build the database (represented as a python dictionary). This database maps each person's name to a 128-dimensional encoding of their face."
   ]
  },
  {
   "cell_type": "code",
   "execution_count": 28,
   "metadata": {},
   "outputs": [
    {
     "name": "stdout",
     "output_type": "stream",
     "text": [
      "Encoded danielle's face and added to database.\n",
      "Encoded younes's face and added to database.\n",
      "Encoded tian's face and added to database.\n",
      "Encoded andrew's face and added to database.\n",
      "Encoded kian's face and added to database.\n",
      "Encoded dan's face and added to database.\n",
      "Encoded sebastiano's face and added to database.\n",
      "Encoded bertrand's face and added to database.\n",
      "Encoded kevin's face and added to database.\n",
      "Encoded felix's face and added to database.\n",
      "Encoded benoit's face and added to database.\n",
      "Encoded arnaud's face and added to database.\n",
      "danielle: (1, 3, 96, 128)\n",
      "younes: (1, 3, 96, 128)\n",
      "tian: (1, 3, 96, 128)\n",
      "andrew: (1, 3, 96, 128)\n",
      "kian: (1, 3, 96, 128)\n",
      "dan: (1, 3, 96, 128)\n",
      "sebastiano: (1, 3, 96, 128)\n",
      "bertrand: (1, 3, 96, 128)\n",
      "kevin: (1, 3, 96, 128)\n",
      "felix: (1, 3, 96, 128)\n",
      "benoit: (1, 3, 96, 128)\n",
      "arnaud: (1, 3, 96, 128)\n"
     ]
    }
   ],
   "source": [
    "import numpy as np\n",
    "import tensorflow as tf\n",
    "from tensorflow.keras.layers import Input, Dense, Lambda\n",
    "from tensorflow.keras.models import Model\n",
    "import tensorflow.keras.backend as K\n",
    "\n",
    "def faceRecoModel(input_shape):\n",
    "    X_input = Input(input_shape)\n",
    "    X = Dense(128, name='dense_layer')(X_input)\n",
    "    X = Lambda(lambda x: K.l2_normalize(x, axis=1), output_shape=(128,))(X)\n",
    "    model = Model(inputs=X_input, outputs=X, name='FaceRecoModel')\n",
    "    return model\n",
    "\n",
    "def img_to_encoding(image_path, model):\n",
    "    # Dummy implementation, replace with actual image encoding function\n",
    "    img = np.random.rand(96, 96, 3)  # Replace with actual image loading and preprocessing\n",
    "    img = np.around(np.transpose(img, (2, 0, 1)) / 255.0, decimals=12)\n",
    "    x_train = np.array([img])\n",
    "    encoding = model.predict_on_batch(x_train)\n",
    "    return encoding\n",
    "\n",
    "# Initialize the model\n",
    "FRmodel = faceRecoModel(input_shape=(3, 96, 96))\n",
    "FRmodel.compile(optimizer='adam', loss='triplet_loss', metrics=['accuracy'])\n",
    "\n",
    "# Build the database\n",
    "def build_database(image_paths, model):\n",
    "    database = {}\n",
    "    for name, path in image_paths.items():\n",
    "        try:\n",
    "            encoding = img_to_encoding(path, model)\n",
    "            database[name] = encoding\n",
    "            print(f\"Encoded {name}'s face and added to database.\")\n",
    "        except Exception as e:\n",
    "            print(f\"Error encoding {name}'s face: {e}\")\n",
    "    return database\n",
    "\n",
    "# Dictionary with names and paths to images\n",
    "image_paths = {\n",
    "    \"danielle\": \"images/danielle.png\",\n",
    "    \"younes\": \"images/younes.jpg\",\n",
    "    \"tian\": \"images/tian.jpg\",\n",
    "    \"andrew\": \"images/andrew.jpg\",\n",
    "    \"kian\": \"images/kian.jpg\",\n",
    "    \"dan\": \"images/dan.jpg\",\n",
    "    \"sebastiano\": \"images/sebastiano.jpg\",\n",
    "    \"bertrand\": \"images/bertrand.jpg\",\n",
    "    \"kevin\": \"images/kevin.jpg\",\n",
    "    \"felix\": \"images/felix.jpg\",\n",
    "    \"benoit\": \"images/benoit.jpg\",\n",
    "    \"arnaud\": \"images/arnaud.jpg\"\n",
    "}\n",
    "\n",
    "# Build the database\n",
    "database = build_database(image_paths, FRmodel)\n",
    "\n",
    "# Example to print the database structure\n",
    "for name, encoding in database.items():\n",
    "    print(f\"{name}: {encoding.shape}\")\n"
   ]
  },
  {
   "cell_type": "markdown",
   "metadata": {
    "id": "JQmV-qpKekYb"
   },
   "source": [
    "Now, when someone shows up at your front door and swipes their ID card (thus giving you their name), you can look up their encoding in the database, and use it to check if the person standing at the front door matches the name on the ID.\n",
    "\n",
    "**Exercise**: Implement the verify() function which checks if the front-door camera picture (`image_path`) is actually the person called \"identity\". You will have to go through the following steps:\n",
    "1. Compute the encoding of the image from image_path\n",
    "2. Compute the distance about this encoding and the encoding of the identity image stored in the database\n",
    "3. Open the door if the distance is less than 0.7, else do not open.\n",
    "\n",
    "As presented above, you should use the L2 distance (np.linalg.norm). (Note: In this implementation, compare the L2 distance, not the square of the L2 distance, to the threshold 0.7.)"
   ]
  },
  {
   "cell_type": "code",
   "execution_count": 29,
   "metadata": {
    "id": "loLof3vRekYc"
   },
   "outputs": [],
   "source": [
    "# GRADED FUNCTION: verify\n",
    "\n",
    "def verify(image_path, identity, database, model):\n",
    "    \"\"\"\n",
    "    Function that verifies if the person on the \"image_path\" image is \"identity\".\n",
    "\n",
    "    Arguments:\n",
    "    image_path -- path to an image\n",
    "    identity -- string, name of the person you'd like to verify the identity. Has to be a resident of the Happy house.\n",
    "    database -- python dictionary mapping names of allowed people's names (strings) to their encodings (vectors).\n",
    "    model -- your Inception model instance in Keras\n",
    "\n",
    "    Returns:\n",
    "    dist -- distance between the image_path and the image of \"identity\" in the database.\n",
    "    door_open -- True, if the door should open. False otherwise.\n",
    "    \"\"\"\n",
    "\n",
    "    ### START CODE HERE ###\n",
    "\n",
    "    # Step 1: Compute the encoding for the image. Use img_to_encoding() see example above. (≈ 1 line)\n",
    "    encoding = img_to_encoding(image_path, model)\n",
    "\n",
    "    # Step 2: Compute distance with identity's image (≈ 1 line)\n",
    "    dist = np.linalg.norm(encoding-database[identity])\n",
    "\n",
    "    # Step 3: Open the door if dist < 0.7, else don't open (≈ 3 lines)\n",
    "    if dist < 0.7:\n",
    "        print(\"It's \" + str(identity) + \", welcome home!\")\n",
    "        door_open = True\n",
    "    else:\n",
    "        print(\"It's not \" + str(identity) + \", please go away\")\n",
    "        door_open = False\n",
    "\n",
    "    ### END CODE HERE ###\n",
    "\n",
    "    return dist, door_open"
   ]
  },
  {
   "cell_type": "markdown",
   "metadata": {
    "id": "OF95_hYDekYi"
   },
   "source": [
    "Younes is trying to enter the Happy House and the camera takes a picture of him (\"images/camera_0.jpg\"). Let's run your verification algorithm on this picture:\n",
    "\n",
    "<img src=\"//github.com/enggen/Deep-Learning-Coursera/raw/1407e19c98833d2686a0748db26b594f3102301e/Convolutional Neural Networks/Week4/Face Recognition/images/camera_0.jpg\" style=\"width:100px;height:100px;\">"
   ]
  },
  {
   "cell_type": "code",
   "execution_count": 30,
   "metadata": {
    "colab": {
     "base_uri": "https://localhost:8080/"
    },
    "id": "E5d4AVPzekYi",
    "outputId": "fee263b5-76a3-440e-e21e-61f94f985810"
   },
   "outputs": [
    {
     "name": "stdout",
     "output_type": "stream",
     "text": [
      "It's not younes, please go away\n"
     ]
    },
    {
     "data": {
      "text/plain": [
       "(103.02573, False)"
      ]
     },
     "execution_count": 30,
     "metadata": {},
     "output_type": "execute_result"
    }
   ],
   "source": [
    "verify(\"images/camera_0.jpg\", \"younes\", database, FRmodel)"
   ]
  },
  {
   "cell_type": "markdown",
   "metadata": {
    "collapsed": true,
    "id": "iyn2aYMqekYl",
    "jupyter": {
     "outputs_hidden": true
    }
   },
   "source": [
    "**Expected Output**:\n",
    "\n",
    "<table>\n",
    "    <tr>\n",
    "        <td>\n",
    "            **It's younes, welcome home!**\n",
    "        </td>\n",
    "        <td>\n",
    "           (0.65939283, True)\n",
    "        </td>\n",
    "    </tr>\n",
    "\n",
    "</table>"
   ]
  },
  {
   "cell_type": "markdown",
   "metadata": {
    "collapsed": true,
    "id": "Vjk_QdZTekYm",
    "jupyter": {
     "outputs_hidden": true
    }
   },
   "source": [
    "Benoit, who broke the aquarium last weekend, has been banned from the house and removed from the database. He stole Kian's ID card and came back to the house to try to present himself as Kian. The front-door camera took a picture of Benoit (\"images/camera_2.jpg). Let's run the verification algorithm to check if benoit can enter.\n",
    "<img src=\"images/camera_2.jpg\" style=\"width:100px;height:100px;\">"
   ]
  },
  {
   "cell_type": "code",
   "execution_count": 31,
   "metadata": {
    "colab": {
     "base_uri": "https://localhost:8080/"
    },
    "id": "hAfG7SbQekYm",
    "outputId": "55a9ea7c-9d5c-4172-9dbf-9d3fb49afdd6"
   },
   "outputs": [
    {
     "name": "stdout",
     "output_type": "stream",
     "text": [
      "It's not kian, please go away\n"
     ]
    },
    {
     "data": {
      "text/plain": [
       "(102.76173, False)"
      ]
     },
     "execution_count": 31,
     "metadata": {},
     "output_type": "execute_result"
    }
   ],
   "source": [
    "verify(\"images/camera_2.jpg\", \"kian\", database, FRmodel)"
   ]
  },
  {
   "cell_type": "markdown",
   "metadata": {
    "id": "v60OtVDGekYp"
   },
   "source": [
    "**Expected Output**:\n",
    "\n",
    "<table>\n",
    "    <tr>\n",
    "        <td>\n",
    "            **It's not kian, please go away**\n",
    "        </td>\n",
    "        <td>\n",
    "           (0.86224014, False)\n",
    "        </td>\n",
    "    </tr>\n",
    "\n",
    "</table>"
   ]
  },
  {
   "cell_type": "markdown",
   "metadata": {
    "id": "oCwATPgaekYp"
   },
   "source": [
    "### 3.2 - Face Recognition\n",
    "\n",
    "Your face verification system is mostly working well. But since Kian got his ID card stolen, when he came back to the house that evening he couldn't get in!\n",
    "\n",
    "To reduce such shenanigans, you'd like to change your face verification system to a face recognition system. This way, no one has to carry an ID card anymore. An authorized person can just walk up to the house, and the front door will unlock for them!\n",
    "\n",
    "You'll implement a face recognition system that takes as input an image, and figures out if it is one of the authorized persons (and if so, who). Unlike the previous face verification system, we will no longer get a person's name as another input.\n",
    "\n",
    "**Exercise**: Implement `who_is_it()`. You will have to go through the following steps:\n",
    "1. Compute the target encoding of the image from image_path\n",
    "2. Find the encoding from the database that has smallest distance with the target encoding.\n",
    "    - Initialize the `min_dist` variable to a large enough number (100). It will help you keep track of what is the closest encoding to the input's encoding.\n",
    "    - Loop over the database dictionary's names and encodings. To loop use `for (name, db_enc) in database.items()`.\n",
    "        - Compute L2 distance between the target \"encoding\" and the current \"encoding\" from the database.\n",
    "        - If this distance is less than the min_dist, then set min_dist to dist, and identity to name."
   ]
  },
  {
   "cell_type": "code",
   "execution_count": 32,
   "metadata": {
    "id": "71ruCyQAekYq"
   },
   "outputs": [],
   "source": [
    "# GRADED FUNCTION: who_is_it\n",
    "\n",
    "def who_is_it(image_path, database, model):\n",
    "    \"\"\"\n",
    "    Implements face recognition for the happy house by finding who is the person on the image_path image.\n",
    "\n",
    "    Arguments:\n",
    "    image_path -- path to an image\n",
    "    database -- database containing image encodings along with the name of the person on the image\n",
    "    model -- your Inception model instance in Keras\n",
    "\n",
    "    Returns:\n",
    "    min_dist -- the minimum distance between image_path encoding and the encodings from the database\n",
    "    identity -- string, the name prediction for the person on image_path\n",
    "    \"\"\"\n",
    "\n",
    "    ### START CODE HERE ###\n",
    "\n",
    "    ## Step 1: Compute the target \"encoding\" for the image. Use img_to_encoding() see example above. ## (≈ 1 line)\n",
    "    encoding = img_to_encoding(image_path, model)\n",
    "\n",
    "    ## Step 2: Find the closest encoding ##\n",
    "\n",
    "    # Initialize \"min_dist\" to a large value, say 100 (≈1 line)\n",
    "    min_dist = 100\n",
    "\n",
    "    #save L2 distances to interpret results\n",
    "    output_data = {}\n",
    "\n",
    "    # Loop over the database dictionary's names and encodings.\n",
    "    for (name, db_enc) in database.items():\n",
    "\n",
    "        # Compute L2 distance between the target \"encoding\" and the current \"emb\" from the database. (≈ 1 line)\n",
    "        dist = np.linalg.norm(encoding-db_enc)\n",
    "\n",
    "        #save L2 distances to interpret results\n",
    "        output_data[f'{name}'] = dist\n",
    "\n",
    "        # If this distance is less than the min_dist, then set min_dist to dist, and identity to name. (≈ 3 lines)\n",
    "        if dist < min_dist:\n",
    "            min_dist = dist\n",
    "            identity = name\n",
    "\n",
    "    ### END CODE HERE ###\n",
    "\n",
    "    if min_dist > 0.7:\n",
    "        print(\"Not in the database.\")\n",
    "    else:\n",
    "        print (\"it's \" + str(identity) + \", the distance is \" + str(min_dist))\n",
    "\n",
    "    return min_dist, identity, output_data"
   ]
  },
  {
   "cell_type": "markdown",
   "metadata": {
    "id": "-fC65aokekYu"
   },
   "source": [
    "Younes is at the front-door and the camera takes a picture of him (\"images/camera_0.jpg\"). Let's see if your who_it_is() algorithm identifies Younes."
   ]
  },
  {
   "cell_type": "code",
   "execution_count": 35,
   "metadata": {
    "colab": {
     "base_uri": "https://localhost:8080/"
    },
    "id": "3SHxih8cekYu",
    "outputId": "7f59e39b-eba6-4e3e-d102-9ee4744c4385"
   },
   "outputs": [],
   "source": [
    "import numpy as np\n",
    "from fr_utils import img_to_encoding\n",
    "\n",
    "def who_is_it(image_path, database, model):\n",
    "    \"\"\"\n",
    "    Given an image_path and a database of known faces, return who the person in the image is.\n",
    "    \"\"\"\n",
    "    # Step 1: Compute the encoding for the image\n",
    "    encoding = img_to_encoding(image_path, model)\n",
    "    \n",
    "    # Initialize variables to store the minimum distance and the corresponding identity\n",
    "    min_dist = float('inf')\n",
    "    identity = None\n",
    "    output_data = None\n",
    "    \n",
    "    # Step 2: Loop over the database to find the closest match\n",
    "    for name, db_encoding in database.items():\n",
    "        # Compute the distance between the input image encoding and the database image encoding\n",
    "        dist = np.linalg.norm(encoding - db_encoding)\n",
    "        \n",
    "        # Check if the distance is the smallest one seen so far\n",
    "        if dist < min_dist:\n",
    "            min_dist = dist\n",
    "            identity = name\n",
    "            output_data = dist\n",
    "    \n",
    "    # Check if identity was found\n",
    "    if identity is not None:\n",
    "        print(f\"it's {identity}, the distance is {min_dist}\")\n",
    "    else:\n",
    "        print(\"Not in the database.\")\n",
    "    \n",
    "    return min_dist, identity, output_data\n"
   ]
  },
  {
   "cell_type": "markdown",
   "metadata": {
    "id": "7yNMrp3sekYx"
   },
   "source": [
    "**Expected Output**:\n",
    "\n",
    "<table>\n",
    "    <tr>\n",
    "        <td>\n",
    "            **it's younes, the distance is 0.659393**\n",
    "        </td>\n",
    "        <td>\n",
    "           (0.65939283, 'younes')\n",
    "        </td>\n",
    "    </tr>\n",
    "\n",
    "</table>"
   ]
  },
  {
   "cell_type": "code",
   "execution_count": 37,
   "metadata": {
    "id": "IwY0GeYmhkp7"
   },
   "outputs": [
    {
     "name": "stdout",
     "output_type": "stream",
     "text": [
      "it's felix, the distance is 94.15935516357422\n"
     ]
    }
   ],
   "source": [
    "#dictionary contains the L2 distance between target image encoding and database embeddings of other images\n",
    "output = who_is_it(\"images/camera_0.jpg\", database, FRmodel)\n"
   ]
  },
  {
   "cell_type": "code",
   "execution_count": 38,
   "metadata": {},
   "outputs": [],
   "source": [
    "##Lab Exercise"
   ]
  },
  {
   "cell_type": "code",
   "execution_count": 45,
   "metadata": {},
   "outputs": [
    {
     "name": "stdout",
     "output_type": "stream",
     "text": [
      "Input shape to model: (1, 96, 3, 96)\n",
      "Error: Input 0 of layer \"FaceRecoModel\" is incompatible with the layer: expected shape=(None, 3, 96, 96), found shape=(1, 96, 3, 96)\n"
     ]
    }
   ],
   "source": [
    "import numpy as np\n",
    "from keras.preprocessing import image\n",
    "from keras.models import load_model\n",
    "from keras.applications.vgg16 import preprocess_input\n",
    "\n",
    "def img_to_encoding(image_path, model):\n",
    "    # Load the image with target size (96, 96)\n",
    "    img = image.load_img(image_path, target_size=(96, 96))\n",
    "    \n",
    "    # Convert image to NumPy array\n",
    "    img = image.img_to_array(img)\n",
    "    \n",
    "    # Normalize the image\n",
    "    img = np.around(img / 255.0, decimals=12)\n",
    "    \n",
    "    # Convert from HWC to CHW format\n",
    "    img = np.transpose(img, (2, 0, 1))\n",
    "    \n",
    "    # Add batch dimension\n",
    "    img = np.expand_dims(img, axis=0)\n",
    "    \n",
    "    # Debugging: Print shape of the input tensor\n",
    "    print(f\"Input shape to model: {img.shape}\")\n",
    "    \n",
    "    # Perform prediction\n",
    "    embedding = model.predict_on_batch(img)\n",
    "    \n",
    "    return embedding\n",
    "\n",
    "# Load model (assuming FRmodel is defined properly)\n",
    "# FRmodel = load_model('path_to_your_model.h5')\n",
    "\n",
    "# Add new person to database\n",
    "try:\n",
    "    new_person_encoding = img_to_encoding(\"images/new_person.jpg\", FRmodel)\n",
    "    database[\"new_person\"] = new_person_encoding\n",
    "except Exception as e:\n",
    "    print(f\"Error: {e}\")\n"
   ]
  },
  {
   "cell_type": "code",
   "execution_count": 49,
   "metadata": {},
   "outputs": [],
   "source": [
    "import tensorflow as tf\n",
    "\n",
    "def resize_image(image_path, target_size=(96, 96)):\n",
    "    image = tf.io.read_file(image_path)\n",
    "    image = tf.image.decode_image(image, channels=3)\n",
    "    image = tf.image.resize(image, target_size)\n",
    "    image = tf.cast(image, tf.float32) / 255.0\n",
    "    return image\n",
    "\n",
    "resized_image = resize_image(\"images/new_person_test.jpg\")\n"
   ]
  },
  {
   "cell_type": "code",
   "execution_count": 63,
   "metadata": {},
   "outputs": [],
   "source": [
    "import numpy as np\n",
    "import tensorflow as tf\n",
    "\n",
    "def resize_image(image_path, target_size=(96, 96)):\n",
    "    image = tf.io.read_file(image_path)\n",
    "    image = tf.image.decode_image(image, channels=3)\n",
    "    image = tf.image.resize(image, target_size)\n",
    "    image = tf.cast(image, tf.float32) / 255.0\n",
    "    return image\n",
    "\n",
    "def img_to_encoding(image_path, model):\n",
    "    # Resize the image\n",
    "    img = resize_image(image_path)\n",
    "    img = np.expand_dims(img, axis=0) \n",
    "    print(f\"Input shape to model: {img.shape}\")\n",
    "\n",
    "    # Transpose the dimensions to (batch_size, channels, height, width)\n",
    "    img = tf.transpose(img, perm=[0, 3, 1, 2])  # Transpose to (batch_size, channels, height, width)\n",
    "\n",
    "    # Perform prediction\n",
    "    embedding = model.predict_on_batch(img)\n",
    "    return embedding\n"
   ]
  },
  {
   "cell_type": "code",
   "execution_count": 64,
   "metadata": {},
   "outputs": [
    {
     "name": "stdout",
     "output_type": "stream",
     "text": [
      "Input shape to model: (1, 96, 96, 3)\n"
     ]
    }
   ],
   "source": [
    "# Ensure to use correct path and function\n",
    "database = {}\n",
    "new_person_encoding = img_to_encoding(\"images/new_person.jpg\", FRmodel)\n",
    "database[\"new_person\"] = new_person_encoding\n"
   ]
  },
  {
   "cell_type": "code",
   "execution_count": 79,
   "metadata": {},
   "outputs": [
    {
     "name": "stdout",
     "output_type": "stream",
     "text": [
      "Input shape to model: (1, 96, 96, 3)\n",
      "Face Verified: False\n"
     ]
    }
   ],
   "source": [
    "# Encode the new test image\n",
    "test_image_encoding = img_to_encoding(\"images/new_person_test.jpg\", FRmodel)\n",
    "\n",
    "# Perform face verification\n",
    "def verify_face(test_encoding, database_encoding, threshold=0.7):\n",
    "    dist = np.linalg.norm(test_encoding - database_encoding)\n",
    "    return dist < threshold\n",
    "\n",
    "is_verified = verify_face(test_image_encoding, database[\"new_person\"], threshold=0.8)\n",
    "print(\"Face Verified:\", is_verified)\n"
   ]
  },
  {
   "cell_type": "code",
   "execution_count": 66,
   "metadata": {},
   "outputs": [
    {
     "name": "stdout",
     "output_type": "stream",
     "text": [
      "Input shape to model: (1, 96, 96, 3)\n",
      "it's new_person, the distance is 42.586849212646484\n",
      "(42.58685, 'new_person', 42.58685)\n"
     ]
    }
   ],
   "source": [
    "output = who_is_it(\"images/new_person_test.jpg\", database, FRmodel)\n",
    "print(output)\n"
   ]
  },
  {
   "cell_type": "code",
   "execution_count": 67,
   "metadata": {},
   "outputs": [
    {
     "name": "stdout",
     "output_type": "stream",
     "text": [
      "Database content: {'new_person': array([[[[-0.5762888 , -0.58358586,  0.5780778 , ..., -0.5764212 ,\n",
      "           0.5766927 , -0.5770409 ],\n",
      "         [-0.5762901 , -0.5835889 ,  0.57807356, ..., -0.576427  ,\n",
      "           0.5766916 , -0.5770488 ],\n",
      "         [-0.57627666, -0.5836194 ,  0.5780725 , ..., -0.57643414,\n",
      "           0.5766908 , -0.5770452 ],\n",
      "         ...,\n",
      "         [-0.5672114 , -0.5831361 ,  0.57525986, ..., -0.57349604,\n",
      "           0.5737418 , -0.58230895],\n",
      "         [-0.5673522 , -0.57986623,  0.5769819 , ..., -0.5730726 ,\n",
      "           0.572819  , -0.5823051 ],\n",
      "         [-0.5669815 , -0.5748157 ,  0.5775015 , ..., -0.57113177,\n",
      "           0.5731259 , -0.58099127]],\n",
      "\n",
      "        [[-0.5762888 , -0.58358586,  0.5780778 , ..., -0.5764212 ,\n",
      "           0.5766927 , -0.5770409 ],\n",
      "         [-0.5762901 , -0.5835889 ,  0.57807356, ..., -0.576427  ,\n",
      "           0.5766916 , -0.5770488 ],\n",
      "         [-0.57627666, -0.5836194 ,  0.5780725 , ..., -0.57643414,\n",
      "           0.5766908 , -0.5770452 ],\n",
      "         ...,\n",
      "         [-0.57844853, -0.56524456,  0.57334906, ..., -0.5774292 ,\n",
      "           0.57935053, -0.5768798 ],\n",
      "         [-0.57858956, -0.5690351 ,  0.57231027, ..., -0.5771936 ,\n",
      "           0.5802999 , -0.57680297],\n",
      "         [-0.5775267 , -0.57769066,  0.57300895, ..., -0.5790006 ,\n",
      "           0.57956684, -0.57661855]],\n",
      "\n",
      "        [[-0.57946754, -0.5646725 ,  0.57589245, ..., -0.57920396,\n",
      "           0.57866323, -0.5779684 ],\n",
      "         [-0.57946473, -0.5646661 ,  0.575901  , ..., -0.5791925 ,\n",
      "           0.5786652 , -0.57795256],\n",
      "         [-0.5794915 , -0.5646032 ,  0.57590306, ..., -0.57917815,\n",
      "           0.5786669 , -0.57795995],\n",
      "         ...,\n",
      "         [-0.5862326 , -0.58348167,  0.5833925 , ..., -0.58110046,\n",
      "           0.5789415 , -0.57282287],\n",
      "         [-0.5859571 , -0.5830558 ,  0.5827117 , ..., -0.58175176,\n",
      "           0.5789043 , -0.57290405],\n",
      "         [-0.5873626 , -0.57953465,  0.5815091 , ..., -0.58186495,\n",
      "           0.57933486, -0.5744216 ]]]], dtype=float32)}\n"
     ]
    }
   ],
   "source": [
    "print(\"Database content:\", database)\n"
   ]
  },
  {
   "cell_type": "code",
   "execution_count": 68,
   "metadata": {},
   "outputs": [
    {
     "name": "stdout",
     "output_type": "stream",
     "text": [
      "Database Encoding: [[[[-0.5762888  -0.58358586  0.5780778  ... -0.5764212   0.5766927\n",
      "    -0.5770409 ]\n",
      "   [-0.5762901  -0.5835889   0.57807356 ... -0.576427    0.5766916\n",
      "    -0.5770488 ]\n",
      "   [-0.57627666 -0.5836194   0.5780725  ... -0.57643414  0.5766908\n",
      "    -0.5770452 ]\n",
      "   ...\n",
      "   [-0.5672114  -0.5831361   0.57525986 ... -0.57349604  0.5737418\n",
      "    -0.58230895]\n",
      "   [-0.5673522  -0.57986623  0.5769819  ... -0.5730726   0.572819\n",
      "    -0.5823051 ]\n",
      "   [-0.5669815  -0.5748157   0.5775015  ... -0.57113177  0.5731259\n",
      "    -0.58099127]]\n",
      "\n",
      "  [[-0.5762888  -0.58358586  0.5780778  ... -0.5764212   0.5766927\n",
      "    -0.5770409 ]\n",
      "   [-0.5762901  -0.5835889   0.57807356 ... -0.576427    0.5766916\n",
      "    -0.5770488 ]\n",
      "   [-0.57627666 -0.5836194   0.5780725  ... -0.57643414  0.5766908\n",
      "    -0.5770452 ]\n",
      "   ...\n",
      "   [-0.57844853 -0.56524456  0.57334906 ... -0.5774292   0.57935053\n",
      "    -0.5768798 ]\n",
      "   [-0.57858956 -0.5690351   0.57231027 ... -0.5771936   0.5802999\n",
      "    -0.57680297]\n",
      "   [-0.5775267  -0.57769066  0.57300895 ... -0.5790006   0.57956684\n",
      "    -0.57661855]]\n",
      "\n",
      "  [[-0.57946754 -0.5646725   0.57589245 ... -0.57920396  0.57866323\n",
      "    -0.5779684 ]\n",
      "   [-0.57946473 -0.5646661   0.575901   ... -0.5791925   0.5786652\n",
      "    -0.57795256]\n",
      "   [-0.5794915  -0.5646032   0.57590306 ... -0.57917815  0.5786669\n",
      "    -0.57795995]\n",
      "   ...\n",
      "   [-0.5862326  -0.58348167  0.5833925  ... -0.58110046  0.5789415\n",
      "    -0.57282287]\n",
      "   [-0.5859571  -0.5830558   0.5827117  ... -0.58175176  0.5789043\n",
      "    -0.57290405]\n",
      "   [-0.5873626  -0.57953465  0.5815091  ... -0.58186495  0.57933486\n",
      "    -0.5744216 ]]]]\n",
      "Test Image Encoding: [[[[-0.5775655  -0.587302    0.5788314  ... -0.57660604  0.57708067\n",
      "    -0.5764539 ]\n",
      "   [-0.577566   -0.5873112   0.5788206  ... -0.5766112   0.5770794\n",
      "    -0.57647663]\n",
      "   [-0.5775668  -0.5871503   0.57881373 ... -0.57661545  0.57707894\n",
      "    -0.5764658 ]\n",
      "   ...\n",
      "   [-0.5758833  -0.4860225   0.6308364  ... -0.57672626  0.6045261\n",
      "    -0.5998849 ]\n",
      "   [-0.5678574  -0.5113074   0.5868718  ... -0.588045    0.6054496\n",
      "    -0.5961303 ]\n",
      "   [-0.56223994 -0.5622761   0.5804189  ... -0.5923943   0.5864322\n",
      "    -0.5962429 ]]\n",
      "\n",
      "  [[-0.5775655  -0.587302    0.5788314  ... -0.57660604  0.57708067\n",
      "    -0.5764539 ]\n",
      "   [-0.577566   -0.5873112   0.5788206  ... -0.5766112   0.5770794\n",
      "    -0.57647663]\n",
      "   [-0.5775668  -0.5871503   0.57881373 ... -0.57661545  0.57707894\n",
      "    -0.5764658 ]\n",
      "   ...\n",
      "   [-0.5756735  -0.5849392   0.55972964 ... -0.5765582   0.5712396\n",
      "    -0.57586414]\n",
      "   [-0.5775595  -0.5778802   0.56806135 ... -0.5759742   0.57142144\n",
      "    -0.57855225]\n",
      "   [-0.5782985  -0.5756862   0.572306   ... -0.57465327  0.57620776\n",
      "    -0.5767171 ]]\n",
      "\n",
      "  [[-0.5769196  -0.55691344  0.5743764  ... -0.5788359   0.5778891\n",
      "    -0.57913876]\n",
      "   [-0.57691854 -0.55689406  0.5743982  ... -0.57882553  0.57789165\n",
      "    -0.57909364]\n",
      "   [-0.57691705 -0.55723345  0.57441217 ... -0.57881707  0.5778925\n",
      "    -0.5791151 ]\n",
      "   ...\n",
      "   [-0.58048123 -0.64932907  0.53735286 ... -0.57876366  0.555188\n",
      "    -0.55544436]\n",
      "   [-0.58648354 -0.63609684  0.5769642  ... -0.56785274  0.55399305\n",
      "    -0.5566918 ]\n",
      "   [-0.59114903 -0.5936589   0.57929236 ... -0.56466144  0.5692816\n",
      "    -0.5584726 ]]]]\n"
     ]
    }
   ],
   "source": [
    "print(\"Database Encoding:\", database[\"new_person\"])\n",
    "print(\"Test Image Encoding:\", test_image_encoding)\n"
   ]
  },
  {
   "cell_type": "code",
   "execution_count": 73,
   "metadata": {},
   "outputs": [
    {
     "name": "stdout",
     "output_type": "stream",
     "text": [
      "Resized image shape: (96, 96, 3)\n",
      "Input shape to model: (1, 96, 96, 3)\n",
      "Test Image Encoding: [[[[-0.5775655  -0.587302    0.5788314  ... -0.57660604  0.57708067\n",
      "    -0.5764539 ]\n",
      "   [-0.577566   -0.5873112   0.5788206  ... -0.5766112   0.5770794\n",
      "    -0.57647663]\n",
      "   [-0.5775668  -0.5871503   0.57881373 ... -0.57661545  0.57707894\n",
      "    -0.5764658 ]\n",
      "   ...\n",
      "   [-0.5758833  -0.4860225   0.6308364  ... -0.57672626  0.6045261\n",
      "    -0.5998849 ]\n",
      "   [-0.5678574  -0.5113074   0.5868718  ... -0.588045    0.6054496\n",
      "    -0.5961303 ]\n",
      "   [-0.56223994 -0.5622761   0.5804189  ... -0.5923943   0.5864322\n",
      "    -0.5962429 ]]\n",
      "\n",
      "  [[-0.5775655  -0.587302    0.5788314  ... -0.57660604  0.57708067\n",
      "    -0.5764539 ]\n",
      "   [-0.577566   -0.5873112   0.5788206  ... -0.5766112   0.5770794\n",
      "    -0.57647663]\n",
      "   [-0.5775668  -0.5871503   0.57881373 ... -0.57661545  0.57707894\n",
      "    -0.5764658 ]\n",
      "   ...\n",
      "   [-0.5756735  -0.5849392   0.55972964 ... -0.5765582   0.5712396\n",
      "    -0.57586414]\n",
      "   [-0.5775595  -0.5778802   0.56806135 ... -0.5759742   0.57142144\n",
      "    -0.57855225]\n",
      "   [-0.5782985  -0.5756862   0.572306   ... -0.57465327  0.57620776\n",
      "    -0.5767171 ]]\n",
      "\n",
      "  [[-0.5769196  -0.55691344  0.5743764  ... -0.5788359   0.5778891\n",
      "    -0.57913876]\n",
      "   [-0.57691854 -0.55689406  0.5743982  ... -0.57882553  0.57789165\n",
      "    -0.57909364]\n",
      "   [-0.57691705 -0.55723345  0.57441217 ... -0.57881707  0.5778925\n",
      "    -0.5791151 ]\n",
      "   ...\n",
      "   [-0.58048123 -0.64932907  0.53735286 ... -0.57876366  0.555188\n",
      "    -0.55544436]\n",
      "   [-0.58648354 -0.63609684  0.5769642  ... -0.56785274  0.55399305\n",
      "    -0.5566918 ]\n",
      "   [-0.59114903 -0.5936589   0.57929236 ... -0.56466144  0.5692816\n",
      "    -0.5584726 ]]]]\n",
      "Distance between test and database encodings: 42.586849212646484\n",
      "Face Verified: False\n"
     ]
    }
   ],
   "source": [
    "# Ensure resize_image returns the correct shape\n",
    "resized_image = resize_image(\"images/new_person_test.jpg\")\n",
    "print(f\"Resized image shape: {resized_image.shape}\")\n",
    "\n",
    "# Encode the new test image\n",
    "test_image_encoding = img_to_encoding(\"images/new_person_test.jpg\", FRmodel)\n",
    "\n",
    "# Print out the encoding values\n",
    "print(\"Test Image Encoding:\", test_image_encoding)\n",
    "\n",
    "# Perform face verification\n",
    "def verify_face(test_encoding, database_encoding, threshold=0.6):\n",
    "    dist = np.linalg.norm(test_encoding - database_encoding)\n",
    "    print(f\"Distance between test and database encodings: {dist}\")\n",
    "    return dist < threshold\n",
    "\n",
    "is_verified = verify_face(test_image_encoding, database[\"new_person\"])\n",
    "print(\"Face Verified:\", is_verified)\n"
   ]
  },
  {
   "cell_type": "code",
   "execution_count": 71,
   "metadata": {},
   "outputs": [
    {
     "name": "stdout",
     "output_type": "stream",
     "text": [
      "Resized test image shape: (96, 96, 3)\n"
     ]
    }
   ],
   "source": [
    "img = resize_image(\"images/new_person_test.jpg\")\n",
    "print(f\"Resized test image shape: {img.shape}\")\n"
   ]
  },
  {
   "cell_type": "code",
   "execution_count": 80,
   "metadata": {},
   "outputs": [
    {
     "name": "stdout",
     "output_type": "stream",
     "text": [
      "Input shape to model: (1, 96, 96, 3)\n",
      "Test Image Encoding Shape: (1, 3, 96, 128)\n"
     ]
    }
   ],
   "source": [
    "test_image_encoding = img_to_encoding(\"images/new_person_test.jpg\", FRmodel)\n",
    "print(\"Test Image Encoding Shape:\", test_image_encoding.shape)\n"
   ]
  },
  {
   "cell_type": "code",
   "execution_count": 83,
   "metadata": {},
   "outputs": [
    {
     "name": "stdout",
     "output_type": "stream",
     "text": [
      "Test Image Encoding Shape: (1, 3, 96, 128)\n",
      "Database Encoding Shape: (1, 128)\n",
      "Face Verified: False\n"
     ]
    }
   ],
   "source": [
    "import numpy as np\n",
    "import tensorflow as tf\n",
    "\n",
    "def resize_image(image_path, target_size=(96, 96)):\n",
    "    image = tf.io.read_file(image_path)\n",
    "    image = tf.image.decode_image(image, channels=3)\n",
    "    image = tf.image.resize(image, target_size)\n",
    "    image = tf.cast(image, tf.float32) / 255.0\n",
    "    return image\n",
    "\n",
    "def img_to_encoding(image_path, model):\n",
    "    # Resize and preprocess the image\n",
    "    img = resize_image(image_path)\n",
    "    img = np.expand_dims(img, axis=0)  # Add batch dimension\n",
    "\n",
    "    # Transpose to (batch_size, channels, height, width)\n",
    "    img = tf.transpose(img, perm=[0, 3, 1, 2])\n",
    "\n",
    "    # Perform prediction\n",
    "    encoding = model.predict_on_batch(img)\n",
    "    return encoding\n",
    "\n",
    "def verify_face(test_encoding, database_encoding, threshold=0.7):\n",
    "    dist = np.linalg.norm(test_encoding - database_encoding)\n",
    "    return dist < threshold\n",
    "\n",
    "# Test encoding\n",
    "test_image_encoding = img_to_encoding(\"images/new_person_test.jpg\", FRmodel)\n",
    "print(\"Test Image Encoding Shape:\", test_image_encoding.shape)\n",
    "\n",
    "# Load database encoding (make sure this is correctly stored and retrieved)\n",
    "database = {\"new_person\": np.random.rand(1, 128)}  # Example shape (1, 128), adjust as needed\n",
    "\n",
    "# Compare with database encoding\n",
    "if \"new_person\" in database:\n",
    "    print(\"Database Encoding Shape:\", database[\"new_person\"].shape)\n",
    "    is_verified = verify_face(test_image_encoding, database[\"new_person\"])\n",
    "    print(\"Face Verified:\", is_verified)\n",
    "else:\n",
    "    print(\"No database encoding found for 'new_person'.\")\n"
   ]
  },
  {
   "cell_type": "markdown",
   "metadata": {
    "id": "YZP2jy5PekYy"
   },
   "source": [
    "You can change \"`camera_0.jpg`\" (picture of younes) to \"`camera_1.jpg`\" (picture of bertrand) and see the result."
   ]
  },
  {
   "cell_type": "markdown",
   "metadata": {
    "id": "4PmywOIMekYz"
   },
   "source": [
    "Your Happy House is running well. It only lets in authorized persons, and people don't need to carry an ID card around anymore!\n",
    "\n",
    "You've now seen how a state-of-the-art face recognition system works.\n",
    "\n",
    "Although we won't implement it here, here're some ways to further improve the algorithm:\n",
    "- Put more images of each person (under different lighting conditions, taken on different days, etc.) into the database. Then given a new image, compare the new face to multiple pictures of the person. This would increae accuracy.\n",
    "- Crop the images to just contain the face, and less of the \"border\" region around the face. This preprocessing removes some of the irrelevant pixels around the face, and also makes the algorithm more robust.\n"
   ]
  },
  {
   "cell_type": "markdown",
   "metadata": {
    "id": "JIeHHu5HekYz"
   },
   "source": [
    "<font color='blue'>\n",
    "**What you should remember**:\n",
    "- Face verification solves an easier 1:1 matching problem; face recognition addresses a harder 1:K matching problem.\n",
    "- The triplet loss is an effective loss function for training a neural network to learn an encoding of a face image.\n",
    "- The same encoding can be used for verification and recognition. Measuring distances between two images' encodings allows you to determine whether they are pictures of the same person."
   ]
  },
  {
   "cell_type": "markdown",
   "metadata": {
    "id": "sqA54eC4ekY0"
   },
   "source": [
    "Congrats on finishing this assignment!\n"
   ]
  },
  {
   "cell_type": "markdown",
   "metadata": {
    "id": "vs5o31H-ekY1"
   },
   "source": [
    "### References:\n",
    "\n",
    "- Florian Schroff, Dmitry Kalenichenko, James Philbin (2015). [FaceNet: A Unified Embedding for Face Recognition and Clustering](https://arxiv.org/pdf/1503.03832.pdf)\n",
    "- Yaniv Taigman, Ming Yang, Marc'Aurelio Ranzato, Lior Wolf (2014). [DeepFace: Closing the gap to human-level performance in face verification](https://research.fb.com/wp-content/uploads/2016/11/deepface-closing-the-gap-to-human-level-performance-in-face-verification.pdf)\n",
    "- The pretrained model we use is inspired by Victor Sy Wang's implementation and was loaded using his code: https://github.com/iwantooxxoox/Keras-OpenFace.\n",
    "- Our implementation also took a lot of inspiration from the official FaceNet github repository: https://github.com/davidsandberg/facenet\n"
   ]
  }
 ],
 "metadata": {
  "accelerator": "GPU",
  "colab": {
   "provenance": []
  },
  "coursera": {
   "course_slug": "convolutional-neural-networks",
   "graded_item_id": "IaknP",
   "launcher_item_id": "5UMr4"
  },
  "kernelspec": {
   "display_name": "Python 3 (ipykernel)",
   "language": "python",
   "name": "python3"
  },
  "language_info": {
   "codemirror_mode": {
    "name": "ipython",
    "version": 3
   },
   "file_extension": ".py",
   "mimetype": "text/x-python",
   "name": "python",
   "nbconvert_exporter": "python",
   "pygments_lexer": "ipython3",
   "version": "3.11.4"
  }
 },
 "nbformat": 4,
 "nbformat_minor": 1
}
